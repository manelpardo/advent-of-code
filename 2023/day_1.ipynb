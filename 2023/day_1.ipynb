{
 "cells": [
  {
   "cell_type": "code",
   "execution_count": 8,
   "metadata": {},
   "outputs": [],
   "source": [
    "import pandas as pd"
   ]
  },
  {
   "cell_type": "code",
   "execution_count": 9,
   "metadata": {},
   "outputs": [],
   "source": [
    "FILE_PATH = 'day_1_data.txt'"
   ]
  },
  {
   "cell_type": "code",
   "execution_count": 10,
   "metadata": {},
   "outputs": [],
   "source": [
    "df = pd.read_csv(FILE_PATH, delimiter='\\t', header=None)\n",
    "df.columns = ['text']"
   ]
  },
  {
   "cell_type": "markdown",
   "metadata": {},
   "source": [
    "# Part 1"
   ]
  },
  {
   "cell_type": "code",
   "execution_count": 11,
   "metadata": {},
   "outputs": [
    {
     "name": "stdout",
     "output_type": "stream",
     "text": [
      "Part 1. the sum of all of the calibration values is:\n",
      "54697\n"
     ]
    }
   ],
   "source": [
    "df = (\n",
    "    df\n",
    "    .assign(**{\n",
    "        'digits': lambda x: x['text'].str.extractall(r'(\\d)').unstack().fillna('').sum(axis=1),\n",
    "        'first_digit': lambda x: x['digits'].str[0],\n",
    "        'last_digit': lambda x: x['digits'].str[-1],\n",
    "        'combination': lambda x: x['first_digit'] + x['last_digit'],\n",
    "    })\n",
    ")\n",
    "print('Part 1. the sum of all of the calibration values is:')\n",
    "print(df['combination'].astype('int64').sum())"
   ]
  },
  {
   "cell_type": "markdown",
   "metadata": {},
   "source": [
    "# Part 2"
   ]
  },
  {
   "cell_type": "code",
   "execution_count": 12,
   "metadata": {},
   "outputs": [
    {
     "name": "stdout",
     "output_type": "stream",
     "text": [
      "Part 2. the sum of all of the calibration values is:\n",
      "54885\n"
     ]
    }
   ],
   "source": [
    "keymap = {\n",
    "    'one':    '1',\n",
    "    'two':    '2',\n",
    "    'three':  '3',\n",
    "    'four':   '4',\n",
    "    'five':   '5',\n",
    "    'six':    '6',\n",
    "    'seven':  '7',\n",
    "    'eight':  '8',\n",
    "    'nine':   '9',\n",
    "}\n",
    "\n",
    "df = (\n",
    "    df\n",
    "    .assign(**{\n",
    "        'digits': lambda x: (\n",
    "            x['text']\n",
    "            .str\n",
    "            .extractall(r'(?=(\\d|one|two|three|four|five|six|seven|eight|nine))')\n",
    "            .unstack()\n",
    "            .fillna('')\n",
    "            .replace(keymap)\n",
    "            .sum(axis=1)\n",
    "        ),\n",
    "        'first_digit': lambda x: x['digits'].str[0],\n",
    "        'last_digit': lambda x: x['digits'].str[-1],\n",
    "        'combination': lambda x: x['first_digit'] + x['last_digit'],\n",
    "    })\n",
    ")\n",
    "print('Part 2. the sum of all of the calibration values is:')\n",
    "print(df['combination'].astype('int64').sum())"
   ]
  }
 ],
 "metadata": {
  "kernelspec": {
   "display_name": "env",
   "language": "python",
   "name": "python3"
  },
  "language_info": {
   "codemirror_mode": {
    "name": "ipython",
    "version": 3
   },
   "file_extension": ".py",
   "mimetype": "text/x-python",
   "name": "python",
   "nbconvert_exporter": "python",
   "pygments_lexer": "ipython3",
   "version": "3.10.7"
  }
 },
 "nbformat": 4,
 "nbformat_minor": 2
}
