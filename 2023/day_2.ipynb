{
 "cells": [
  {
   "cell_type": "code",
   "execution_count": 31,
   "metadata": {},
   "outputs": [],
   "source": [
    "FILE_PATH = 'day_2_data.txt'"
   ]
  },
  {
   "cell_type": "markdown",
   "metadata": {},
   "source": [
    "# Problem 1"
   ]
  },
  {
   "cell_type": "code",
   "execution_count": 44,
   "metadata": {},
   "outputs": [
    {
     "name": "stdout",
     "output_type": "stream",
     "text": [
      "2795\n"
     ]
    }
   ],
   "source": [
    "keymap_dict = {\n",
    "    'red': 12,\n",
    "    'green': 13,\n",
    "    'blue': 14,\n",
    "}\n",
    "\n",
    "answer = 0\n",
    "with open(FILE_PATH, mode='r') as file:\n",
    "    for line in file:\n",
    "        possible = True\n",
    "        line = line.strip()\n",
    "        id_, line = line.split(':')\n",
    "        for balls in line.split(';'):\n",
    "            for ball in balls.split(','):\n",
    "                n, color = ball.split()\n",
    "                if int(n) > keymap_dict.get(color, 0):\n",
    "                    possible = False\n",
    "        if possible:\n",
    "            answer += int(id_.split()[-1])\n",
    "print(answer)"
   ]
  },
  {
   "cell_type": "markdown",
   "metadata": {},
   "source": [
    "# Problem 2"
   ]
  },
  {
   "cell_type": "code",
   "execution_count": 48,
   "metadata": {},
   "outputs": [],
   "source": [
    "from collections import defaultdict"
   ]
  },
  {
   "cell_type": "code",
   "execution_count": 64,
   "metadata": {},
   "outputs": [
    {
     "name": "stdout",
     "output_type": "stream",
     "text": [
      "75561\n"
     ]
    }
   ],
   "source": [
    "answer = 0\n",
    "with open(FILE_PATH, mode='r') as file:\n",
    "    for line in file:\n",
    "        possible = True\n",
    "        line = line.strip()\n",
    "        id_, line = line.split(':')\n",
    "        value_dict = defaultdict(int)\n",
    "        for balls in line.split(';'):\n",
    "            for ball in balls.split(','):\n",
    "                n, color = ball.split()\n",
    "                n = int(n)\n",
    "                value_dict[color] = max(value_dict[color], n)\n",
    "        score = 1\n",
    "        for value in value_dict.values():\n",
    "            score *= value\n",
    "        answer += score\n",
    "print(answer)"
   ]
  }
 ],
 "metadata": {
  "kernelspec": {
   "display_name": "env",
   "language": "python",
   "name": "python3"
  },
  "language_info": {
   "codemirror_mode": {
    "name": "ipython",
    "version": 3
   },
   "file_extension": ".py",
   "mimetype": "text/x-python",
   "name": "python",
   "nbconvert_exporter": "python",
   "pygments_lexer": "ipython3",
   "version": "3.10.7"
  }
 },
 "nbformat": 4,
 "nbformat_minor": 2
}
